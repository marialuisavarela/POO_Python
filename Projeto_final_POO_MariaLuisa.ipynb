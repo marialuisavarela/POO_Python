{
  "nbformat": 4,
  "nbformat_minor": 0,
  "metadata": {
    "colab": {
      "name": "Projeto_final_POO_MariaLuisa.ipynb",
      "provenance": [],
      "include_colab_link": true
    },
    "kernelspec": {
      "name": "python3",
      "display_name": "Python 3"
    },
    "language_info": {
      "name": "python"
    }
  },
  "cells": [
    {
      "cell_type": "markdown",
      "metadata": {
        "id": "view-in-github",
        "colab_type": "text"
      },
      "source": [
        "<a href=\"https://colab.research.google.com/github/marialuisavarela/POO_Python/blob/main/Projeto_final_POO_MariaLuisa.ipynb\" target=\"_parent\"><img src=\"https://colab.research.google.com/assets/colab-badge.svg\" alt=\"Open In Colab\"/></a>"
      ]
    },
    {
      "cell_type": "markdown",
      "source": [
        "# Projeto Final da Disciplina \"Algoritmo e Programação Orientada a Objetos\""
      ],
      "metadata": {
        "id": "SlHskrYDZP7J"
      }
    },
    {
      "cell_type": "markdown",
      "source": [
        "## Problema (abstração): Loja de Equipamentos de Informática\n",
        "\\\\\n",
        "\n",
        "---\n",
        "\\\\\n",
        "Implemente em Python, utilizando os conceitos de Orientação a Objetos, um programa capaz de simular uma **Loja de equipamentos de Informática**. O programa deve considerar as seguintes características:\n",
        "\n",
        "\\\\\n",
        "\n",
        "- **Papéis (Pessoa)**\n",
        "  - Vendedor\n",
        "  - Cliente\n",
        "\n",
        "- **Item**\n",
        "  - Nome do produto de informática \n",
        "  - Valor\n",
        "  - Quantidade em estoque\n",
        "\n",
        "\n",
        "- **Pedido**\n",
        "  - Vendedor\n",
        "  - Cliente\n",
        "  - Carrinho de compras (um ou mais itens)\n",
        "\n",
        "- **Ações**\n",
        "  1. Cadastrar Vendedor\n",
        "  2. Cadastrar Cliente\n",
        "  3. Cadastrar Itens\n",
        "  4. Iniciar uma Compra (Pedido)\n",
        "  5. Adicionar/Remover itens do carrinho de compras\n",
        "  6. Calcular valor dos itens presentes no carrinho de compras\n",
        "  7. Emitir cupom do pedido (listar os produtos, seus valores e o total do pedido)\n",
        "  8. Adicionar 10 pontos ao vendedor que realiza uma venda/pedido (acumulativo)\n",
        "\n",
        "\n",
        "\\\\\n",
        "\n",
        "---\n",
        "\\\\\n",
        "\n",
        "Para validar/testar o programa, cadastre (instancie) 3 clientes, dois vendedores e no mínimo 5 itens de informática. Agora, realize uma compra para cada cliente e execute as ações 4, 5, 6, 7 e 8 descritas acima.\n",
        "\n",
        "\\\\\n",
        "<center><img width=\"200\" alt=\"creating a repo\" src=\"https://drive.google.com/uc?export=view&id=1G6Lt4G1q3ariS-h0REWpZg4741ROx2Ht\"></center>\n",
        "\n",
        "\\\\\n"
      ],
      "metadata": {
        "id": "2Kij3KTiaMEO"
      }
    },
    {
      "cell_type": "markdown",
      "source": [
        "#Desenvolvimento"
      ],
      "metadata": {
        "id": "KzPZUMAfS54X"
      }
    },
    {
      "cell_type": "markdown",
      "source": [
        "##Classes"
      ],
      "metadata": {
        "id": "xkuVJheJTFOQ"
      }
    },
    {
      "cell_type": "markdown",
      "source": [
        "###Classes Pessoas, Vendedores, Clientes"
      ],
      "metadata": {
        "id": "v0XV_sfVTLFP"
      }
    },
    {
      "cell_type": "code",
      "source": [
        "## Pessoas\n",
        "class Pessoas:\n",
        "  def __init__(self, nome):\n",
        "    self.nome = nome\n",
        "\n",
        "## Vendedores\n",
        "class Vendedor(Pessoas):\n",
        "  def __init__(self, nome, pontuacao, status):\n",
        "    self.pontuacao = 0\n",
        "    self.status = 'ativo'\n",
        "    Pessoas.__init__(self, nome)\n",
        "\n",
        "  def getVendedor(self):\n",
        "    return self\n",
        "\n",
        "  def exibir(self):\n",
        "    return (f'Vendedor: {self.nome} Pontuação: {self.pontuacao} Status: {self.status}')\n",
        "  \n",
        "  def getNome(self):\n",
        "    return self.nome\n",
        "  \n",
        "  def addPontos(self):\n",
        "    self.pontuacao = self.pontuacao + 10\n",
        "    return (f'Pontuação adicionada ao vendedor {self.nome} com sucesso. Pontuação atual: {self.pontuacao}')\n",
        "\n",
        "class ListaVendedores:\n",
        "  vendedores = []\n",
        "\n",
        "  def addVendedor(self, object):\n",
        "    self.vendedores.append(object)\n",
        "    print('Vendedor adicionado')\n",
        "\n",
        "listaV = ListaVendedores()\n",
        "\n",
        "## Clientes\n",
        "class Cliente(Pessoas):\n",
        "  def __init__(self, nome, endereco):\n",
        "    self.endereco = endereco\n",
        "    Pessoas.__init__(self, nome)\n",
        "  def exibir(self):\n",
        "    return (f'Cliente: {self.nome} Endereço: {self.endereco}')\n",
        "\n",
        "class ListaClientes:\n",
        "  clientes = []\n",
        "\n",
        "  def addCliente(self, object):\n",
        "    self.clientes.append(object)\n",
        "    print('Cliente adicionado')\n",
        "\n",
        "listaC = ListaClientes()"
      ],
      "metadata": {
        "id": "85i6HrPUMseT"
      },
      "execution_count": 1,
      "outputs": []
    },
    {
      "cell_type": "markdown",
      "source": [
        "###Classe Itens"
      ],
      "metadata": {
        "id": "FrewLpaQTPYn"
      }
    },
    {
      "cell_type": "code",
      "source": [
        "## Itens\n",
        "class Item:\n",
        "  def __init__(self, nome, valor, qtdEstoque):\n",
        "    self.nome = nome\n",
        "    self.valor = valor\n",
        "    self.qtdEstoque = qtdEstoque\n",
        "\n",
        "  def getItem(self):\n",
        "    return self\n",
        "\n",
        "  def exibir(self):\n",
        "    return (f'Item: {self.nome} Valor (R$): {self.valor} Estoque: {self.qtdEstoque}')\n",
        "  \n",
        "  def getValor(self, nome):\n",
        "    return self.valor\n",
        "  \n",
        "  def getNome(self):\n",
        "    return self.nome\n",
        "  \n",
        "  def creditarEstoque(self):\n",
        "    self.qtdEstoque = self.qtdEstoque - 1\n",
        "    return(f'Estoque do item {self.nome} creditado com sucesso. Estoque atual: {self.qtdEstoque}')\n",
        "\n",
        "class ListaItens:\n",
        "  itens = []\n",
        "\n",
        "  def addItem(self, object):\n",
        "    self.itens.append(object)\n",
        "    print('Item adicionado')\n",
        "\n",
        "listaI = ListaItens()\n"
      ],
      "metadata": {
        "id": "Ghn5n2ZWMtJa"
      },
      "execution_count": 2,
      "outputs": []
    },
    {
      "cell_type": "markdown",
      "source": [
        "###Classe Pedido"
      ],
      "metadata": {
        "id": "MJgZfOVTTUa9"
      }
    },
    {
      "cell_type": "code",
      "source": [
        "## Pedido\n",
        "class Pedido:\n",
        "  def __init__(self, id, cliente, vendedor, carrinhoCompras):\n",
        "    self.id = id\n",
        "    self.cliente = cliente\n",
        "    self.vendedor = vendedor\n",
        "    self.carrinhoCompras = carrinhoCompras\n",
        "  \n",
        "  def getPedido(self):\n",
        "    return self\n",
        "  \n",
        "  def getVendedor(self):\n",
        "    return self.vendedor\n",
        "  \n",
        "  def exibir(self):\n",
        "    return (f'ID: {self.id},   Cliente: {self.cliente},   Vendedor: {self.vendedor},   Carrinho: {self.carrinhoCompras}')\n",
        "  \n",
        "  def addItem(self, nomeItem):\n",
        "    self.carrinhoCompras.append(nomeItem)\n",
        "    return self.exibir()\n",
        "  \n",
        "  def remItem(self, nomeItem):\n",
        "    self.carrinhoCompras.remove(nomeItem)\n",
        "    return self.exibir()\n",
        "\n",
        "class ListaPedidos:\n",
        "  pedidos = []\n",
        "\n",
        "  def addPedido(self, object):\n",
        "    self.pedidos.append(object)\n",
        "    print('Pedido criado. Adicione os itens.')\n",
        "  \n",
        "  def getPedido(self, id):\n",
        "    for pedido in self.pedidos:\n",
        "      if id == pedido+1:\n",
        "        return ([pedido.id])\n",
        "\n",
        "listaP = ListaPedidos()\n",
        "\n",
        "\n",
        "\n",
        "## Carrinho de Compras\n",
        "carrinhoCompras = []"
      ],
      "metadata": {
        "id": "WLhfiBb_0s-0"
      },
      "execution_count": 3,
      "outputs": []
    },
    {
      "cell_type": "markdown",
      "source": [
        "##Funções"
      ],
      "metadata": {
        "id": "jO5kImiPUjcP"
      }
    },
    {
      "cell_type": "markdown",
      "source": [
        "###Funções Menu"
      ],
      "metadata": {
        "id": "baVnvnMqVMtd"
      }
    },
    {
      "cell_type": "code",
      "source": [
        "def apresentarAcoes():\n",
        "  print('Ações:')\n",
        "  print('1 - Cadastrar Vendedor')\n",
        "  print('2 - Cadastrar Cliente')\n",
        "  print('3 - Cadastrar Itens')\n",
        "  print('4 - Iniciar uma Compra (Pedido)')\n",
        "  print('5 - Adicionar itens do carrinho de compras')\n",
        "  print('6 - Remover itens do carrinho de compras')\n",
        "  print('7 - Calcular valor dos itens presentes no carrinho de compras')\n",
        "  print('8 - Fechar pedido - Emitir cupom do pedido (listar os produtos, seus valores e o total do pedido)')\n",
        "  #Colocar opção de Adicionar 10 pontos ao vendedor que realiza uma venda/pedido (acumulativo)\n",
        "\n",
        "def consultarAcao(numAcao):\n",
        "    if numAcao == 1: #cadastrar vendedor\n",
        "      print('Cadastrar vendedor')\n",
        "      nomeVendedor = input('Nome do vendedor:')\n",
        "      return cadastrarVendedor(nomeVendedor)\n",
        "    \n",
        "    elif numAcao == 2: #cadastrar clientes\n",
        "      print('Cadastrar Cliente')\n",
        "      nomeCliente = input('Nome do cliente:')\n",
        "      enderecoCliente = input('Endereço do cliente:')\n",
        "      return cadastrarCliente(nomeCliente, enderecoCliente)\n",
        "    \n",
        "    elif numAcao == 3: #cadastrar itens\n",
        "      print('Cadastrar item')\n",
        "      nomeItem = input('Nome do item:')\n",
        "      valorItem = float(input('Valor do item (R$):'))\n",
        "      qtdEstoqueItem = int(input('Qtd em estoque:'))\n",
        "      return cadastrarItem(nomeItem, valorItem, qtdEstoqueItem)\n",
        "    \n",
        "    elif numAcao == 4: #iniciar pedido\n",
        "      print('Iniciar pedido')\n",
        "      idPedido = int(input('Informe o ID do pedido: '))\n",
        "      cliente = input('Informe o cliente: ')\n",
        "      vendedor = input('Informe o vendedor: ')\n",
        "      carrinhoCompras = [] #zerando carrinho de compras\n",
        "      return iniciarPedido(idPedido, cliente, vendedor)\n",
        "    \n",
        "    elif numAcao == 5: #add itens\n",
        "      print('Adicionar itens')\n",
        "      idPedido = int(input('Digite o ID do pedido: '))\n",
        "      itemAdd = input('Digite o nome do item: ')\n",
        "      return adicionarItem(idPedido, itemAdd)\n",
        "    \n",
        "    elif numAcao == 6: #remover itens\n",
        "      print('Remover itens')\n",
        "      idPedido = int(input('Digite o ID do pedido: '))\n",
        "      itemRem = input('Digite o nome do item: ')\n",
        "      return removerItem(idPedido, itemRem)\n",
        "    \n",
        "    elif numAcao == 7: #calcular carrinho\n",
        "      print('Resumo Compra')\n",
        "      return exibirCompra()\n",
        "    \n",
        "    elif numAcao == 8: #fechar pedido\n",
        "      print('Fechar pedido')\n",
        "      return fecharPedido()\n",
        "    \n",
        "    else: \n",
        "      print('Valor incorreto. Reinicie a aplicação')"
      ],
      "metadata": {
        "id": "YTuFDY1pVUSm"
      },
      "execution_count": 4,
      "outputs": []
    },
    {
      "cell_type": "markdown",
      "source": [
        "###Funções Comportamentos"
      ],
      "metadata": {
        "id": "UaUYYzbiVYWO"
      }
    },
    {
      "cell_type": "code",
      "source": [
        "def cadastrarVendedor(nome):\n",
        "  novoVendedor = Vendedor(nome, 0, 'ativo')\n",
        "  listaV.addVendedor(novoVendedor.getVendedor())\n",
        "\n",
        "  for vendedor in ListaVendedores.vendedores:\n",
        "    print(vendedor.exibir())\n",
        "\n",
        "def cadastrarCliente(nome, endereco):\n",
        "  novoCliente = Cliente(nome, endereco)\n",
        "  listaC.addCliente(novoCliente.exibir())\n",
        "\n",
        "  print(listaC.clientes)\n",
        "\n",
        "def cadastrarItem(nome, valor, qtdEstoque):\n",
        "  novoItem = Item(nome, valor, qtdEstoque)\n",
        "  listaI.addItem(novoItem.getItem())\n",
        "\n",
        "  print(novoItem.exibir())\n",
        "\n",
        "def iniciarPedido(id, cliente, vendedor):\n",
        "  novoPedido = Pedido(id, cliente, vendedor, carrinhoCompras)\n",
        "  listaP.addPedido(novoPedido.getPedido())\n",
        "  print(listaP.pedidos[id-1].exibir())\n",
        "\n",
        "def adicionarItem(idPedido, nomeItem):\n",
        "  listaP.pedidos[idPedido-1].addItem(nomeItem) # -1 já que a lista começa com zero, mas os pedidos começam em 1\n",
        "  print(listaP.pedidos[idPedido-1].exibir())\n",
        "  #não consegui separar os carrinhos por compra\n",
        "\n",
        "def removerItem(idPedido, nomeItem):\n",
        "  listaP.pedidos[idPedido-1].remItem(nomeItem)\n",
        "  print(listaP.pedidos[idPedido-1].exibir())\n",
        "\n",
        "def exibirCompra():\n",
        "  soma = 0\n",
        "  for produto in carrinhoCompras:\n",
        "    for item in listaI.itens:\n",
        "      if produto == item.getNome():\n",
        "        soma = soma + item.getValor(produto)\n",
        "        print(produto, '-' , item.getValor(produto))\n",
        "  print('Valor total: ', soma)\n",
        "\n",
        "def fecharPedido():\n",
        "  print(exibirCompra())\n",
        "  nomeVendedor = listaP.pedidos[0].getVendedor()\n",
        "  for vendedor in listaV.vendedores:\n",
        "    if vendedor.getNome() == nomeVendedor:\n",
        "      print(vendedor.addPontos())\n",
        "  \n",
        "  for produto in carrinhoCompras:\n",
        "    for item in listaI.itens:\n",
        "      if produto == item.getNome():\n",
        "        print(item.creditarEstoque())"
      ],
      "metadata": {
        "id": "pQEXbxnXNuZ3"
      },
      "execution_count": 5,
      "outputs": []
    },
    {
      "cell_type": "markdown",
      "source": [
        "##Aplicação"
      ],
      "metadata": {
        "id": "ufbXOGQoUP-f"
      }
    },
    {
      "cell_type": "code",
      "source": [
        "1## Interação\n",
        "\n",
        "apresentarAcoes()\n",
        "numAcao = int(input('Digite o número pretendido: '))\n",
        "consultarAcao(numAcao)\n"
      ],
      "metadata": {
        "colab": {
          "base_uri": "https://localhost:8080/"
        },
        "id": "k5YXdnoDNudL",
        "outputId": "e7724e10-47e4-45e7-a78e-085e3c2e353a"
      },
      "execution_count": 12,
      "outputs": [
        {
          "output_type": "stream",
          "name": "stdout",
          "text": [
            "Ações:\n",
            "1 - Cadastrar Vendedor\n",
            "2 - Cadastrar Cliente\n",
            "3 - Cadastrar Itens\n",
            "4 - Iniciar uma Compra (Pedido)\n",
            "5 - Adicionar itens do carrinho de compras\n",
            "6 - Remover itens do carrinho de compras\n",
            "7 - Calcular valor dos itens presentes no carrinho de compras\n",
            "8 - Fechar pedido - Emitir cupom do pedido (listar os produtos, seus valores e o total do pedido)\n",
            "Digite o número pretendido: 8\n",
            "Fechar pedido\n",
            "Mouse - 10.0\n",
            "Valor total:  10.0\n",
            "None\n",
            "Pontuação adicionada ao vendedor Bruno com sucesso. Pontuação atual: 10\n",
            "Estoque do item Mouse creditado com sucesso. Estoque atual: 9\n"
          ]
        }
      ]
    }
  ]
}